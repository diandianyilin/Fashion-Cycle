{
 "cells": [
  {
   "cell_type": "markdown",
   "metadata": {},
   "source": [
    "#### Clean the data"
   ]
  },
  {
   "cell_type": "code",
   "execution_count": null,
   "metadata": {},
   "outputs": [],
   "source": [
    "import pandas as pd\n",
    "\n",
    "# Load data with UTF-8 encoding for Chinese text\n",
    "file_path = '/home/disk1/red_disk1/zhiyi/zhiyi_data/tb_style_sale_202311_202410.csv'\n",
    "data = pd.read_csv(file_path, encoding='utf-8')\n",
    "\n",
    "# Count total rows in the dataset\n",
    "total_rows_count = data.shape[0]\n",
    "\n",
    "# Display the result\n",
    "print(\"Total rows:\", total_rows_count)\n",
    "\n",
    "# Count distinct rows by considering all columns (to ensure row uniqueness)\n",
    "distinct_rows_count = data.drop_duplicates().shape[0]\n",
    "\n",
    "# Count distinct values in the 'union_id' column\n",
    "distinct_union_id_count = data['union_id'].nunique()\n",
    "\n",
    "# Display the results\n",
    "print(\"Distinct rows:\", distinct_rows_count)\n",
    "print(\"Distinct union_id values:\", distinct_union_id_count)\n",
    "\n",
    "# Count distinct values in the 'style_new' column\n",
    "distinct_style_new_count = data['style_new'].nunique()\n",
    "\n",
    "# Display the result\n",
    "print(\"Distinct style_new values:\", distinct_style_new_count)"
   ]
  },
  {
   "cell_type": "markdown",
   "metadata": {},
   "source": [
    "#### Check styles\n",
    "1. Clusters the data by style_new.\n",
    "2. Counts the unique union_id and note_id values for each style.\n",
    "3. Sorts the styles by the count of note_id and selects the top 10 styles.\n",
    "4. Visualizes the results in a bar chart."
   ]
  },
  {
   "cell_type": "code",
   "execution_count": null,
   "metadata": {},
   "outputs": [],
   "source": [
    "import pandas as pd\n",
    "import matplotlib.pyplot as plt\n",
    "from matplotlib.font_manager import FontProperties\n",
    "import matplotlib as mpl\n",
    "\n",
    "# Set up the font properties for Chinese text\n",
    "chinese_font_path = '/usr/share/fonts/opentype/noto/NotoSansCJK-Regular.ttc'\n",
    "chinese_font = FontProperties(fname=chinese_font_path)\n",
    "mpl.rcParams['font.sans-serif'] = [chinese_font_path]  # Set default font for matplotlib\n",
    "mpl.rcParams['axes.unicode_minus'] = False  # Ensure minus signs display correctly\n",
    "\n",
    "# Group by 'style_new' and count unique 'union_id' and 'note_id' for each style\n",
    "style_counts = data.groupby('style_new').agg(\n",
    "    unique_union_id_count=('union_id', 'nunique'),\n",
    "    note_id_count=('note_id', 'count')\n",
    ").reset_index()\n",
    "\n",
    "# Sort by 'note_id_count' to get the top 20 styles\n",
    "top_10_styles = style_counts.sort_values(by='note_id_count', ascending=False).head(20)\n",
    "\n",
    "# Plotting the top 20 styles\n",
    "fig, ax = plt.subplots(figsize=(10, 6))\n",
    "ax.bar(top_10_styles['style_new'], top_10_styles['note_id_count'], label='Note Count')\n",
    "ax.plot(top_10_styles['style_new'], top_10_styles['unique_union_id_count'], color='orange', marker='o', label='Union ID Count')\n",
    "\n",
    "# Add labels and legend with Chinese font support\n",
    "ax.set_xlabel('风格', fontproperties=chinese_font)  # 'Style' in Chinese\n",
    "ax.set_ylabel('计数', fontproperties=chinese_font)  # 'Count' in Chinese\n",
    "ax.set_title('按Note ID计数的前20风格', fontproperties=chinese_font)  # 'Top 20 Styles by Note ID Count' in Chinese\n",
    "ax.legend(prop=chinese_font)\n",
    "plt.xticks(rotation=45, fontproperties=chinese_font)\n",
    "plt.tight_layout()\n",
    "\n",
    "# Display the plot\n",
    "plt.show()\n"
   ]
  },
  {
   "cell_type": "code",
   "execution_count": null,
   "metadata": {},
   "outputs": [],
   "source": [
    "# Display the results in a table format\n",
    "top_10_styles.columns = ['Style', 'Union ID Count', 'Note ID Count']\n",
    "print(top_10_styles)"
   ]
  }
 ],
 "metadata": {
  "kernelspec": {
   "display_name": "base",
   "language": "python",
   "name": "python3"
  },
  "language_info": {
   "codemirror_mode": {
    "name": "ipython",
    "version": 3
   },
   "file_extension": ".py",
   "mimetype": "text/x-python",
   "name": "python",
   "nbconvert_exporter": "python",
   "pygments_lexer": "ipython3",
   "version": "3.9.7"
  }
 },
 "nbformat": 4,
 "nbformat_minor": 2
}
