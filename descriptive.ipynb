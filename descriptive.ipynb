{
 "cells": [
  {
   "cell_type": "markdown",
   "metadata": {},
   "source": [
    "#### Clean the data"
   ]
  },
  {
   "cell_type": "code",
   "execution_count": null,
   "metadata": {},
   "outputs": [
    {
     "name": "stdout",
     "output_type": "stream",
     "text": [
      "<class 'pandas.core.frame.DataFrame'>\n",
      "Int64Index: 55652253 entries, 0 to 55652357\n",
      "Data columns (total 25 columns):\n",
      " #   Column          Dtype \n",
      "---  ------          ----- \n",
      " 0   union_id        object\n",
      " 1   gender          object\n",
      " 2   race            object\n",
      " 3   season          object\n",
      " 4   style_new       object\n",
      " 5   root_category   object\n",
      " 6   category        object\n",
      " 7   kid_category    object\n",
      " 8   collar          object\n",
      " 9   sleeve          object\n",
      " 10  sleeve_type     object\n",
      " 11  fabric          object\n",
      " 12  contour         object\n",
      " 13  clothes_age     object\n",
      " 14  clothes_length  object\n",
      " 15  texture         object\n",
      " 16  accessories     object\n",
      " 17  technology_new  object\n",
      " 18  color           object\n",
      " 19  note_id         object\n",
      " 20  user_id         object\n",
      " 21  publish_time    object\n",
      " 22  like_num        int64 \n",
      " 23  comment_num     int64 \n",
      " 24  collect_num     int64 \n",
      "dtypes: int64(3), object(22)\n",
      "memory usage: 10.8+ GB\n"
     ]
    }
   ],
   "source": [
    "import pandas as pd\n",
    "\n",
    "# Load data with specified encoding\n",
    "file_path = '/home/disk1/red_disk1/zhiyi/zhiyi_data/xhs_style_post_20231101_20241001.csv'\n",
    "data = pd.read_csv(file_path, encoding='ISO-8859-1')\n",
    "\n",
    "# Remove duplicate rows\n",
    "data.drop_duplicates(inplace=True)\n",
    "\n",
    "# Verify removal of duplicates\n",
    "data.info()\n",
    "\n",
    "# Save the cleaned data back to the original CSV file\n",
    "data.to_csv('/home/disk1/red_disk1/zhiyi/zhiyi_data/xhs_style_post_20231101_20241001.csv', index=False)\n",
    "\n",
    "print(\"Duplicates removed and CSV updated successfully.\")\n"
   ]
  },
  {
   "cell_type": "code",
   "execution_count": 2,
   "metadata": {},
   "outputs": [
    {
     "name": "stdout",
     "output_type": "stream",
     "text": [
      "Distinct rows: 55652253\n",
      "Distinct union_id values: 32148236\n"
     ]
    }
   ],
   "source": [
    "# Count distinct rows by considering all columns (to ensure row uniqueness)\n",
    "distinct_rows_count = data.drop_duplicates().shape[0]\n",
    "\n",
    "# Count distinct values in the 'union_id' column\n",
    "distinct_union_id_count = data['union_id'].nunique()\n",
    "\n",
    "# Display the results\n",
    "print(\"Distinct rows:\", distinct_rows_count)\n",
    "print(\"Distinct union_id values:\", distinct_union_id_count)\n"
   ]
  },
  {
   "cell_type": "code",
   "execution_count": 3,
   "metadata": {},
   "outputs": [
    {
     "name": "stdout",
     "output_type": "stream",
     "text": [
      "Total rows: 55652358\n"
     ]
    }
   ],
   "source": [
    "# Count total rows in the dataset\n",
    "total_rows_count = data.shape[0]\n",
    "\n",
    "# Display the result\n",
    "print(\"Total rows:\", total_rows_count)\n"
   ]
  },
  {
   "cell_type": "code",
   "execution_count": null,
   "metadata": {},
   "outputs": [],
   "source": [
    "# Count distinct values in the 'style_new' column\n",
    "distinct_style_new_count = data['style_new'].nunique()\n",
    "\n",
    "# Display the result\n",
    "print(\"Distinct style_new values:\", distinct_style_new_count)"
   ]
  }
 ],
 "metadata": {
  "kernelspec": {
   "display_name": "base",
   "language": "python",
   "name": "python3"
  },
  "language_info": {
   "codemirror_mode": {
    "name": "ipython",
    "version": 3
   },
   "file_extension": ".py",
   "mimetype": "text/x-python",
   "name": "python",
   "nbconvert_exporter": "python",
   "pygments_lexer": "ipython3",
   "version": "3.9.7"
  }
 },
 "nbformat": 4,
 "nbformat_minor": 2
}
