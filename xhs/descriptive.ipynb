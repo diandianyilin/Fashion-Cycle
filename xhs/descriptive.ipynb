{
 "cells": [
  {
   "cell_type": "markdown",
   "metadata": {},
   "source": [
    "#### Clean the data"
   ]
  },
  {
   "cell_type": "code",
   "execution_count": 10,
   "metadata": {},
   "outputs": [
    {
     "name": "stdout",
     "output_type": "stream",
     "text": [
      "<class 'pandas.core.frame.DataFrame'>\n",
      "Int64Index: 55652253 entries, 0 to 55652357\n",
      "Data columns (total 25 columns):\n",
      " #   Column          Dtype \n",
      "---  ------          ----- \n",
      " 0   union_id        object\n",
      " 1   gender          object\n",
      " 2   race            object\n",
      " 3   season          object\n",
      " 4   style_new       object\n",
      " 5   root_category   object\n",
      " 6   category        object\n",
      " 7   kid_category    object\n",
      " 8   collar          object\n",
      " 9   sleeve          object\n",
      " 10  sleeve_type     object\n",
      " 11  fabric          object\n",
      " 12  contour         object\n",
      " 13  clothes_age     object\n",
      " 14  clothes_length  object\n",
      " 15  texture         object\n",
      " 16  accessories     object\n",
      " 17  technology_new  object\n",
      " 18  color           object\n",
      " 19  note_id         object\n",
      " 20  user_id         object\n",
      " 21  publish_time    object\n",
      " 22  like_num        int64 \n",
      " 23  comment_num     int64 \n",
      " 24  collect_num     int64 \n",
      "dtypes: int64(3), object(22)\n",
      "memory usage: 10.8+ GB\n",
      "Duplicates removed and cleaned data saved to a new CSV file successfully.\n"
     ]
    }
   ],
   "source": [
    "import pandas as pd\n",
    "\n",
    "# Load data with UTF-8 encoding for Chinese text\n",
    "file_path = '/home/disk1/red_disk1/zhiyi/zhiyi_data/xhs_style_post_20231101_20241001.csv'\n",
    "data = pd.read_csv(file_path, encoding='utf-8')\n",
    "\n",
    "# Remove duplicate rows\n",
    "data.drop_duplicates(inplace=True)\n",
    "\n",
    "# Verify removal of duplicates\n",
    "data.info()\n",
    "\n",
    "# Save the cleaned data to a new CSV file\n",
    "new_file_path = '/home/disk1/red_disk1/zhiyi/zhiyi_data/xhs_style_post_cleaned.csv'\n",
    "data.to_csv(new_file_path, index=False, encoding='utf-8')\n",
    "\n",
    "print(\"Duplicates removed and cleaned data saved to a new CSV file successfully.\")\n"
   ]
  },
  {
   "cell_type": "code",
   "execution_count": 11,
   "metadata": {},
   "outputs": [
    {
     "name": "stdout",
     "output_type": "stream",
     "text": [
      "Total rows: 55652253\n",
      "Distinct rows: 55652253\n",
      "Distinct union_id values: 32148236\n",
      "Distinct note_id values: 14046535\n",
      "Distinct style_new values: 2916\n"
     ]
    }
   ],
   "source": [
    "import pandas as pd\n",
    "\n",
    "# Load data with UTF-8 encoding for Chinese text\n",
    "file_path = '/home/disk1/red_disk1/zhiyi/zhiyi_data/xhs_style_post_cleaned.csv'\n",
    "data = pd.read_csv(file_path, encoding='utf-8')\n",
    "\n",
    "# Count total rows in the dataset\n",
    "total_rows_count = data.shape[0]\n",
    "\n",
    "# Display the result\n",
    "print(\"Total rows:\", total_rows_count)\n",
    "\n",
    "# Count distinct rows by considering all columns (to ensure row uniqueness)\n",
    "distinct_rows_count = data.drop_duplicates().shape[0]\n",
    "\n",
    "# Count distinct values in the 'union_id' column\n",
    "distinct_union_id_count = data['union_id'].nunique()\n",
    "\n",
    "# Count distinct values in the 'note_id' column\n",
    "distinct_note_id_count = data['note_id'].nunique()\n",
    "\n",
    "# Display the results\n",
    "print(\"Distinct rows:\", distinct_rows_count)\n",
    "print(\"Distinct union_id values:\", distinct_union_id_count)\n",
    "print(\"Distinct note_id values:\", distinct_note_id_count)\n",
    "\n",
    "# Count distinct values in the 'style_new' column\n",
    "distinct_style_new_count = data['style_new'].nunique()\n",
    "\n",
    "# Display the result\n",
    "print(\"Distinct style_new values:\", distinct_style_new_count)\n"
   ]
  },
  {
   "cell_type": "markdown",
   "metadata": {},
   "source": [
    "#### Check styles\n",
    "1. Clusters the data by style_new.\n",
    "2. Counts the unique union_id and note_id values for each style.\n",
    "3. Sorts the styles by the count of note_id and selects the top 10 styles.\n",
    "4. Visualizes the results in a bar chart."
   ]
  },
  {
   "cell_type": "code",
   "execution_count": null,
   "metadata": {},
   "outputs": [],
   "source": [
    "import pandas as pd\n",
    "import matplotlib.pyplot as plt\n",
    "from matplotlib.font_manager import FontProperties\n",
    "import matplotlib as mpl\n",
    "\n",
    "# Set up the font properties for Chinese text\n",
    "chinese_font_path = '/usr/share/fonts/opentype/noto/NotoSansCJK-Regular.ttc'\n",
    "chinese_font = FontProperties(fname=chinese_font_path)\n",
    "mpl.rcParams['font.sans-serif'] = [chinese_font_path]  # Set default font for matplotlib\n",
    "mpl.rcParams['axes.unicode_minus'] = False  # Ensure minus signs display correctly\n",
    "\n",
    "# Group by 'style_new' and count unique 'union_id' and 'note_id' for each style\n",
    "style_counts = data.groupby('style_new').agg(\n",
    "    unique_union_id_count=('union_id', 'nunique'),\n",
    "    note_id_count=('note_id', 'nunique')\n",
    ").reset_index()\n",
    "\n",
    "# Sort by 'note_id_count' to get the top 20 styles\n",
    "top_10_styles = style_counts.sort_values(by='note_id_count', ascending=False).head(20)\n",
    "\n",
    "# Plotting the top 20 styles\n",
    "fig, ax = plt.subplots(figsize=(10, 6))\n",
    "ax.bar(top_10_styles['style_new'], top_10_styles['note_id_count'], label='Note Count')\n",
    "ax.plot(top_10_styles['style_new'], top_10_styles['unique_union_id_count'], color='orange', marker='o', label='Union ID Count')\n",
    "\n",
    "# Add labels and legend with Chinese font support\n",
    "ax.set_xlabel('风格', fontproperties=chinese_font)  # 'Style' in Chinese\n",
    "ax.set_ylabel('计数', fontproperties=chinese_font)  # 'Count' in Chinese\n",
    "ax.set_title('按Note ID计数的前20风格', fontproperties=chinese_font)  # 'Top 20 Styles by Note ID Count' in Chinese\n",
    "ax.legend(prop=chinese_font)\n",
    "plt.xticks(rotation=45, fontproperties=chinese_font)\n",
    "plt.tight_layout()\n",
    "\n",
    "# Display the plot\n",
    "plt.show()\n"
   ]
  },
  {
   "cell_type": "code",
   "execution_count": 13,
   "metadata": {},
   "outputs": [
    {
     "name": "stdout",
     "output_type": "stream",
     "text": [
      "         Style  Union ID Count  Note ID Count\n",
      "2835   韩系休闲#休闲         6652903       11456872\n",
      "294    休闲运动#运动         3045407        5672805\n",
      "1823        淑女         2844417        4336096\n",
      "2711   都市休闲#都市         1895395        3078392\n",
      "2276        甜美         1745325        2406320\n",
      "2146    甜妹风#甜美         1281870        2193404\n",
      "1317   日系休闲#休闲          966857        1842868\n",
      "1099        性感         1367304        1830489\n",
      "0     ABG辣妹#辣妹          846238        1516458\n",
      "2014        潮牌          828284        1434151\n",
      "2760    露营风#户外          696957        1188887\n",
      "2530   美式复古#复古          627452        1153206\n",
      "178    专业运动#运动          574032        1102260\n",
      "1634     汉服#国风          785735        1064052\n",
      "91      Y2K#辣妹          574497         996889\n",
      "425    其他休闲#休闲          595679         907946\n",
      "1541        极简          588853         826077\n",
      "2658   职业通勤#都市          429713         724837\n",
      "915     工装风#户外          326486         548740\n",
      "625         奢华          450426         521067\n"
     ]
    }
   ],
   "source": [
    "# Display the results in a table format\n",
    "top_10_styles.columns = ['Style', 'Union ID Count', 'Note ID Count']\n",
    "print(top_10_styles)"
   ]
  }
 ],
 "metadata": {
  "kernelspec": {
   "display_name": "base",
   "language": "python",
   "name": "python3"
  },
  "language_info": {
   "codemirror_mode": {
    "name": "ipython",
    "version": 3
   },
   "file_extension": ".py",
   "mimetype": "text/x-python",
   "name": "python",
   "nbconvert_exporter": "python",
   "pygments_lexer": "ipython3",
   "version": "3.9.7"
  }
 },
 "nbformat": 4,
 "nbformat_minor": 2
}
